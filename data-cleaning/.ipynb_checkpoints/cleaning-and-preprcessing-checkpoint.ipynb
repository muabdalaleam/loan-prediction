{
 "cells": [
  {
   "cell_type": "markdown",
   "id": "7446ada8-1d4c-4141-b981-c44616180e7d",
   "metadata": {},
   "source": [
    "## <center><strong>Importing the <span style= 'color: #F87060'>Packeges</span>"
   ]
  },
  {
   "cell_type": "code",
   "execution_count": 1,
   "id": "0ba0231b-e98c-41b1-bf5f-e56fa0b16680",
   "metadata": {},
   "outputs": [],
   "source": [
    "import matplotlib\n",
    "import joblib\n",
    "\n",
    "import numpy              as np\n",
    "import pandas             as pd\n",
    "import seaborn            as sns\n",
    "import polars             as pl\n",
    "from shiny import render\n",
    "import matplotlib.pyplot  as plt\n",
    "\n",
    "from pandasql                import sqldf\n",
    "from sklearn.preprocessing   import StandardScaler\n",
    "from imblearn.over_sampling  import RandomOverSampler\n",
    "from sklearn.preprocessing   import OneHotEncoder\n",
    "from sklearn.model_selection import train_test_split"
   ]
  },
  {
   "cell_type": "markdown",
   "id": "aa21a158-8c08-473d-b939-42393b823708",
   "metadata": {},
   "source": [
    "## <center><strong>Data cleaning with <span style= 'color: #F87060'>SQL querries</span>"
   ]
  },
  {
   "cell_type": "code",
   "execution_count": 2,
   "id": "e1e4e895-453a-4465-8b0c-96717d63915d",
   "metadata": {},
   "outputs": [],
   "source": [
    "df = pd.read_csv('../dataset/Loan dataset.csv')"
   ]
  },
  {
   "cell_type": "code",
   "execution_count": 3,
   "id": "38049931-50ac-442e-a540-8a002638a916",
   "metadata": {},
   "outputs": [],
   "source": [
    "# Removing Missing values\n",
    "df = sqldf('''SELECT *, IFNULL(Gender, 'Unknown') AS Gender,\n",
    "                        IFNULL(Married, 'No') AS Married,\n",
    "                        IFNULL(Dependents, 0) AS Dependents,\n",
    "                        IFNULL(Self_Employed, 0) AS Self_Employed,\n",
    "                        IFNULL(Loan_Amount_Term, 360) AS Loan_Amount_Term,\n",
    "                        IFNULL(CoapplicantIncome, 0) AS CoapplicantIncome\n",
    "             FROM df\n",
    "             WHERE Credit_History IS NOT NULL AND\n",
    "                   LoanAmount     IS NOT NULL;''')\n",
    "\n",
    "df = df.loc[:, ~df.columns.duplicated(keep='last')].copy()"
   ]
  },
  {
   "cell_type": "code",
   "execution_count": 4,
   "id": "fe455469-7047-4713-9c55-53fba4913be6",
   "metadata": {},
   "outputs": [],
   "source": [
    "# Renaming columns\n",
    "df = sqldf('''SELECT\n",
    "                -- Loan_ID, We will drop the loan id column\n",
    "                Gender,\n",
    "                Married,\n",
    "                Dependents,\n",
    "                Education,\n",
    "                Credit_History,\n",
    "                Property_Area,\n",
    "                Loan_Status,\n",
    "                Self_Employed        AS Employment_Type,\n",
    "                ApplicantIncome      AS Monthly_Income,\n",
    "                CoapplicantIncome    AS Extra_Monthly_Income,\n",
    "                LoanAmount           AS Loan_Amount,\n",
    "                Loan_Amount_Term     AS Loan_Term\n",
    "    FROM df\n",
    "''')"
   ]
  },
  {
   "cell_type": "code",
   "execution_count": 5,
   "id": "43023bf5-4f44-44dc-8795-201503e4b45f",
   "metadata": {},
   "outputs": [],
   "source": [
    "# Editing inconsistent variabels\n",
    "df = sqldf('''SELECT *,\n",
    "\n",
    "                CASE\n",
    "                    WHEN Credit_History = 0 THEN 'Bad'\n",
    "                    WHEN Credit_History = 1 THEN 'Good'\n",
    "                END AS Credit_History,\n",
    "                \n",
    "                CASE\n",
    "                    WHEN Loan_Status = 'Y'  THEN 'Accepted'\n",
    "                    WHEN Loan_Status = 'N'  THEN 'Rejected'\n",
    "                END AS Loan_Status,\n",
    "\n",
    "                CASE\n",
    "                    WHEN Dependents = '3+' THEN '3'\n",
    "                    ELSE Dependents\n",
    "                END AS Dependents,\n",
    "\n",
    "                CASE \n",
    "                    WHEN Employment_Type = 0 OR Employment_Type = 'No' THEN 'Not-Self-Employed'\n",
    "                    ELSE 'Self-Employed'\n",
    "                END AS Employment_Type,\n",
    "\n",
    "                Loan_Amount*1000 AS Loan_Amount\n",
    "                \n",
    "            FROM df''')\n",
    "\n",
    "df = df.loc[:, ~df.columns.duplicated(keep='last')].copy()"
   ]
  },
  {
   "cell_type": "code",
   "execution_count": 6,
   "id": "e429561a-1dd4-4ff0-9e80-6e8116085676",
   "metadata": {},
   "outputs": [],
   "source": [
    "# Basic DType editing\n",
    "df = df.astype({'Dependents'     : np.uint8,    'Loan_Term'            : np.uint8, 'Loan_Amount': np.uint16,\n",
    "                'Monthly_Income' : np.uint16,   'Extra_Monthly_Income' : np.uint16,\n",
    "                'Loan_Status'    : 'category',  'Credit_History'       : 'category', \n",
    "                'Property_Area'  : 'category',  'Employment_Type'      : 'category',\n",
    "                'Education'      : 'category',  'Married'              : 'category', 'Gender': 'category'})"
   ]
  },
  {
   "cell_type": "markdown",
   "id": "d3e59318-e01c-40cd-a545-bc438ae31321",
   "metadata": {},
   "source": [
    "## <center><strong>Data <span style= 'color: #F87060'>Processing</span>"
   ]
  },
  {
   "cell_type": "markdown",
   "id": "4e2ad258-aafa-41a3-a63b-7fcdf745ca87",
   "metadata": {},
   "source": [
    "#### **Preprocessing the data**"
   ]
  },
  {
   "cell_type": "code",
   "execution_count": 7,
   "id": "21cc9fbb-7830-4808-af18-cf3321a747df",
   "metadata": {},
   "outputs": [],
   "source": [
    "df['Total_Monthly_Income'] = df['Monthly_Income'] + df['Extra_Monthly_Income']"
   ]
  },
  {
   "cell_type": "code",
   "execution_count": 8,
   "id": "9f6b8791-6004-468d-b621-cf8a394248f0",
   "metadata": {
    "tags": []
   },
   "outputs": [
    {
     "data": {
      "text/plain": [
       "Index(['Gender', 'Married', 'Education', 'Property_Area', 'Monthly_Income',\n",
       "       'Extra_Monthly_Income', 'Loan_Term', 'Credit_History', 'Loan_Status',\n",
       "       'Dependents', 'Employment_Type', 'Loan_Amount', 'Total_Monthly_Income'],\n",
       "      dtype='object')"
      ]
     },
     "execution_count": 8,
     "metadata": {},
     "output_type": "execute_result"
    }
   ],
   "source": [
    "df.columns"
   ]
  },
  {
   "cell_type": "code",
   "execution_count": 9,
   "id": "11a29eea-01c7-4668-baf7-76b36f899d3d",
   "metadata": {},
   "outputs": [
    {
     "name": "stderr",
     "output_type": "stream",
     "text": [
      "C:\\Users\\FreeComp\\AppData\\Local\\Temp\\ipykernel_4196\\3792402351.py:6: SettingWithCopyWarning: \n",
      "A value is trying to be set on a copy of a slice from a DataFrame.\n",
      "Try using .loc[row_indexer,col_indexer] = value instead\n",
      "\n",
      "See the caveats in the documentation: https://pandas.pydata.org/pandas-docs/stable/user_guide/indexing.html#returning-a-view-versus-a-copy\n",
      "  numerical_df[numerical_cols] =  scaler.fit_transform(numerical_df)\n"
     ]
    }
   ],
   "source": [
    "numerical_cols = df.select_dtypes(include=np.number).columns\n",
    "\n",
    "scaler = StandardScaler()\n",
    "\n",
    "numerical_df                 = df[numerical_cols]\n",
    "numerical_df[numerical_cols] =  scaler.fit_transform(numerical_df)"
   ]
  },
  {
   "cell_type": "code",
   "execution_count": 10,
   "id": "5e48964b-d266-4ab0-8a93-3cec6e2d6d62",
   "metadata": {},
   "outputs": [],
   "source": [
    "encoder = OneHotEncoder(sparse_output=False)\n",
    "\n",
    "categorical_cols = df.select_dtypes('category').columns.drop(['Loan_Status'])\n",
    "categorical_df   = encoder.fit_transform(df[categorical_cols])\n",
    "categorical_cols = encoder.get_feature_names_out(categorical_cols)\n",
    "categorical_df   = pd.DataFrame(categorical_df, columns=[col for col in categorical_cols])\n",
    "\n",
    "categorical_df['Loan_Status'] = df['Loan_Status'].map({'Accepted': 1, 'Rejected': 0}) # Preventing target column from bieng one hot encoded"
   ]
  },
  {
   "cell_type": "code",
   "execution_count": 11,
   "id": "b72607a6-3b80-4dce-a9d1-ad8a3957eee6",
   "metadata": {
    "tags": []
   },
   "outputs": [
    {
     "data": {
      "text/html": [
       "<div>\n",
       "<style scoped>\n",
       "    .dataframe tbody tr th:only-of-type {\n",
       "        vertical-align: middle;\n",
       "    }\n",
       "\n",
       "    .dataframe tbody tr th {\n",
       "        vertical-align: top;\n",
       "    }\n",
       "\n",
       "    .dataframe thead th {\n",
       "        text-align: right;\n",
       "    }\n",
       "</style>\n",
       "<table border=\"1\" class=\"dataframe\">\n",
       "  <thead>\n",
       "    <tr style=\"text-align: right;\">\n",
       "      <th></th>\n",
       "      <th>Gender_Female</th>\n",
       "      <th>Gender_Male</th>\n",
       "      <th>Gender_Unknown</th>\n",
       "      <th>Married_No</th>\n",
       "      <th>Married_Yes</th>\n",
       "      <th>Education_Graduate</th>\n",
       "      <th>Education_Not Graduate</th>\n",
       "      <th>Property_Area_Rural</th>\n",
       "      <th>Property_Area_Semiurban</th>\n",
       "      <th>Property_Area_Urban</th>\n",
       "      <th>Credit_History_Bad</th>\n",
       "      <th>Credit_History_Good</th>\n",
       "      <th>Employment_Type_Not-Self-Employed</th>\n",
       "      <th>Employment_Type_Self-Employed</th>\n",
       "      <th>Loan_Status</th>\n",
       "    </tr>\n",
       "  </thead>\n",
       "  <tbody>\n",
       "    <tr>\n",
       "      <th>0</th>\n",
       "      <td>0.0</td>\n",
       "      <td>1.0</td>\n",
       "      <td>0.0</td>\n",
       "      <td>0.0</td>\n",
       "      <td>1.0</td>\n",
       "      <td>1.0</td>\n",
       "      <td>0.0</td>\n",
       "      <td>1.0</td>\n",
       "      <td>0.0</td>\n",
       "      <td>0.0</td>\n",
       "      <td>0.0</td>\n",
       "      <td>1.0</td>\n",
       "      <td>1.0</td>\n",
       "      <td>0.0</td>\n",
       "      <td>0</td>\n",
       "    </tr>\n",
       "    <tr>\n",
       "      <th>1</th>\n",
       "      <td>0.0</td>\n",
       "      <td>1.0</td>\n",
       "      <td>0.0</td>\n",
       "      <td>0.0</td>\n",
       "      <td>1.0</td>\n",
       "      <td>1.0</td>\n",
       "      <td>0.0</td>\n",
       "      <td>0.0</td>\n",
       "      <td>0.0</td>\n",
       "      <td>1.0</td>\n",
       "      <td>0.0</td>\n",
       "      <td>1.0</td>\n",
       "      <td>0.0</td>\n",
       "      <td>1.0</td>\n",
       "      <td>1</td>\n",
       "    </tr>\n",
       "    <tr>\n",
       "      <th>2</th>\n",
       "      <td>0.0</td>\n",
       "      <td>1.0</td>\n",
       "      <td>0.0</td>\n",
       "      <td>0.0</td>\n",
       "      <td>1.0</td>\n",
       "      <td>0.0</td>\n",
       "      <td>1.0</td>\n",
       "      <td>0.0</td>\n",
       "      <td>0.0</td>\n",
       "      <td>1.0</td>\n",
       "      <td>0.0</td>\n",
       "      <td>1.0</td>\n",
       "      <td>1.0</td>\n",
       "      <td>0.0</td>\n",
       "      <td>1</td>\n",
       "    </tr>\n",
       "    <tr>\n",
       "      <th>3</th>\n",
       "      <td>0.0</td>\n",
       "      <td>1.0</td>\n",
       "      <td>0.0</td>\n",
       "      <td>1.0</td>\n",
       "      <td>0.0</td>\n",
       "      <td>1.0</td>\n",
       "      <td>0.0</td>\n",
       "      <td>0.0</td>\n",
       "      <td>0.0</td>\n",
       "      <td>1.0</td>\n",
       "      <td>0.0</td>\n",
       "      <td>1.0</td>\n",
       "      <td>1.0</td>\n",
       "      <td>0.0</td>\n",
       "      <td>1</td>\n",
       "    </tr>\n",
       "    <tr>\n",
       "      <th>4</th>\n",
       "      <td>0.0</td>\n",
       "      <td>1.0</td>\n",
       "      <td>0.0</td>\n",
       "      <td>0.0</td>\n",
       "      <td>1.0</td>\n",
       "      <td>1.0</td>\n",
       "      <td>0.0</td>\n",
       "      <td>0.0</td>\n",
       "      <td>0.0</td>\n",
       "      <td>1.0</td>\n",
       "      <td>0.0</td>\n",
       "      <td>1.0</td>\n",
       "      <td>0.0</td>\n",
       "      <td>1.0</td>\n",
       "      <td>1</td>\n",
       "    </tr>\n",
       "  </tbody>\n",
       "</table>\n",
       "</div>"
      ],
      "text/plain": [
       "   Gender_Female  Gender_Male  Gender_Unknown  Married_No  Married_Yes  \\\n",
       "0            0.0          1.0             0.0         0.0          1.0   \n",
       "1            0.0          1.0             0.0         0.0          1.0   \n",
       "2            0.0          1.0             0.0         0.0          1.0   \n",
       "3            0.0          1.0             0.0         1.0          0.0   \n",
       "4            0.0          1.0             0.0         0.0          1.0   \n",
       "\n",
       "   Education_Graduate  Education_Not Graduate  Property_Area_Rural  \\\n",
       "0                 1.0                     0.0                  1.0   \n",
       "1                 1.0                     0.0                  0.0   \n",
       "2                 0.0                     1.0                  0.0   \n",
       "3                 1.0                     0.0                  0.0   \n",
       "4                 1.0                     0.0                  0.0   \n",
       "\n",
       "   Property_Area_Semiurban  Property_Area_Urban  Credit_History_Bad  \\\n",
       "0                      0.0                  0.0                 0.0   \n",
       "1                      0.0                  1.0                 0.0   \n",
       "2                      0.0                  1.0                 0.0   \n",
       "3                      0.0                  1.0                 0.0   \n",
       "4                      0.0                  1.0                 0.0   \n",
       "\n",
       "   Credit_History_Good  Employment_Type_Not-Self-Employed  \\\n",
       "0                  1.0                                1.0   \n",
       "1                  1.0                                0.0   \n",
       "2                  1.0                                1.0   \n",
       "3                  1.0                                1.0   \n",
       "4                  1.0                                0.0   \n",
       "\n",
       "   Employment_Type_Self-Employed Loan_Status  \n",
       "0                            0.0           0  \n",
       "1                            1.0           1  \n",
       "2                            0.0           1  \n",
       "3                            0.0           1  \n",
       "4                            1.0           1  "
      ]
     },
     "execution_count": 11,
     "metadata": {},
     "output_type": "execute_result"
    }
   ],
   "source": [
    "categorical_df.head()"
   ]
  },
  {
   "cell_type": "code",
   "execution_count": 12,
   "id": "9bdba7ab-4737-4e04-8481-95edac85de9a",
   "metadata": {},
   "outputs": [],
   "source": [
    "processsed_df = pd.concat([numerical_df, categorical_df], axis= 1)"
   ]
  },
  {
   "cell_type": "markdown",
   "id": "821d1a59-3046-4920-a7a3-bda30f5982ec",
   "metadata": {},
   "source": [
    "#### **Preparing for ML**"
   ]
  },
  {
   "cell_type": "code",
   "execution_count": 13,
   "id": "bc67ad5d-b5b9-48a5-a09c-5ac65542a19a",
   "metadata": {},
   "outputs": [],
   "source": [
    "X = processsed_df.drop(['Loan_Status'], axis= 1)\n",
    "y = processsed_df['Loan_Status']"
   ]
  },
  {
   "cell_type": "code",
   "execution_count": 14,
   "id": "0af607d7-fc56-46b0-bce0-19eb2cd0b43b",
   "metadata": {},
   "outputs": [],
   "source": [
    "# ros = RandomOverSampler(random_state=42)\n",
    "\n",
    "# X_resampled, y_resampled = ros.fit_resample(X.to_numpy(), y.to_numpy())\n",
    "\n",
    "# X = pd.DataFrame(X_resampled, columns= X.columns)\n",
    "# y = pd.Series(y_resampled, name= 'Loan_Status')"
   ]
  },
  {
   "cell_type": "code",
   "execution_count": 15,
   "id": "6f3195e3-9cdf-4bb2-be2d-a9fcbb491dd7",
   "metadata": {},
   "outputs": [],
   "source": [
    "X_train, X_test, y_train, y_test = train_test_split(X, y, test_size= 0.2)"
   ]
  },
  {
   "cell_type": "markdown",
   "id": "6e42a61c-ffe4-489d-95b9-3d3c44fd64a4",
   "metadata": {},
   "source": [
    "## <center><strong>Data <span style= 'color: #F87060'>Saving</span>"
   ]
  },
  {
   "cell_type": "code",
   "execution_count": 16,
   "id": "ca6bc304-de3c-4674-a4d5-b5505f3e2866",
   "metadata": {},
   "outputs": [],
   "source": [
    "X_train  .to_csv('cleaned-data/train-and-test-data/X-train.csv', index= False)\n",
    "X_test   .to_csv('cleaned-data/train-and-test-data/X-test.csv', index= False)\n",
    "\n",
    "y_train  .to_csv('cleaned-data/train-and-test-data/y-train.csv', index= False)\n",
    "y_test   .to_csv('cleaned-data/train-and-test-data/y-test.csv', index= False)\n",
    "\n",
    "df       .to_csv('cleaned-data/processsed-data.csv', index= False)"
   ]
  },
  {
   "cell_type": "code",
   "execution_count": 17,
   "id": "a5b0df29-ad1a-4d91-ab98-189cafa72dda",
   "metadata": {
    "tags": []
   },
   "outputs": [
    {
     "data": {
      "text/plain": [
       "['../models/encoder.joblib']"
      ]
     },
     "execution_count": 17,
     "metadata": {},
     "output_type": "execute_result"
    }
   ],
   "source": [
    "joblib.dump(scaler,  \"../models/scaler.joblib\")\n",
    "joblib.dump(encoder, \"../models/encoder.joblib\")"
   ]
  }
 ],
 "metadata": {
  "kernelspec": {
   "display_name": "Python 3 (ipykernel)",
   "language": "python",
   "name": "python3"
  },
  "language_info": {
   "codemirror_mode": {
    "name": "ipython",
    "version": 3
   },
   "file_extension": ".py",
   "mimetype": "text/x-python",
   "name": "python",
   "nbconvert_exporter": "python",
   "pygments_lexer": "ipython3",
   "version": "3.9.17"
  }
 },
 "nbformat": 4,
 "nbformat_minor": 5
}
