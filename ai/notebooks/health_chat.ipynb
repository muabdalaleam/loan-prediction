{
  "cells": [
    {
      "cell_type": "markdown",
      "source": [
        "## Model describtion:\n",
        "- In this project we will firstly check if your text is talking about health or not using **[NMF](https://towardsdatascience.com/topic-modeling-articles-with-nmf-8c6b2a227a45)** after<br>\n",
        "tokeniaing it and stemming it then we will drop all stop words to check if this is health question.<br><br>\n",
        "- Then we will use open ai text dafinshi API because we can't make chatbot in just tow weeks."
      ],
      "metadata": {
        "id": "jkNEDHBg_F1G"
      }
    },
    {
      "cell_type": "code",
      "execution_count": 54,
      "metadata": {
        "id": "s_xyK10i6_r8"
      },
      "outputs": [],
      "source": [
        "import openai\n",
        "import nltk\n",
        "import requests\n",
        "from bs4 import BeautifulSoup"
      ]
    },
    {
      "cell_type": "markdown",
      "source": [
        "Firstly we will scrap some **[CNN](https://edition.cnn.com/health\")** health data so we can train our model to recognize texts that are talking<br>about health."
      ],
      "metadata": {
        "id": "Sy2HH00sFrcl"
      }
    },
    {
      "cell_type": "code",
      "source": [
        "url = \"https://www.nature.com/nm/articles?type=research-highlight\"\n",
        "response = requests.get(url)\n",
        "main_soup = BeautifulSoup(response.content, 'lxml')"
      ],
      "metadata": {
        "id": "ila4GyAp7w-0"
      },
      "execution_count": 55,
      "outputs": []
    },
    {
      "cell_type": "code",
      "source": [
        "# Creating empty list to save links and other things\n",
        "\n",
        "next = []\n",
        "article = []\n",
        "article_link = []\n",
        "describtion = []"
      ],
      "metadata": {
        "id": "LE3jOq6fMfDA"
      },
      "execution_count": 56,
      "outputs": []
    },
    {
      "cell_type": "code",
      "source": [
        "next_pages = main_soup.find_all(\"a\", attrs= {\"class\": \"c-pagination__link\"})\n",
        "\n",
        "for next_page in next_pages:\n",
        "  next.append(url + next_page.get('href'))\n",
        "\n",
        "next = set(next)\n",
        "next"
      ],
      "metadata": {
        "colab": {
          "base_uri": "https://localhost:8080/"
        },
        "id": "M1tFbnrlESb-",
        "outputId": "6da32839-6f0b-4924-ed35-bc705879a9d0"
      },
      "execution_count": 57,
      "outputs": [
        {
          "output_type": "execute_result",
          "data": {
            "text/plain": [
              "{'https://www.nature.com/nm/articles?type=research-highlight/nm/articles?searchType=journalSearch&sort=PubDate&type=research-highlight&page=14',\n",
              " 'https://www.nature.com/nm/articles?type=research-highlight/nm/articles?searchType=journalSearch&sort=PubDate&type=research-highlight&page=2',\n",
              " 'https://www.nature.com/nm/articles?type=research-highlight/nm/articles?searchType=journalSearch&sort=PubDate&type=research-highlight&page=3'}"
            ]
          },
          "metadata": {},
          "execution_count": 57
        }
      ]
    },
    {
      "cell_type": "code",
      "source": [
        "article_links = main_soup.find_all(\"a\", attrs= {\"class\": \"c-card__link u-link-inherit\"})\n",
        "\n",
        "for link in article_links:\n",
        "  article_link.append(url + link.get('href'))\n",
        "\n",
        "article_link[0:5]"
      ],
      "metadata": {
        "id": "4lm8oEmWP0UE",
        "outputId": "7cafbb20-b3b8-4a23-8283-09f7c8fd8fb9",
        "colab": {
          "base_uri": "https://localhost:8080/"
        }
      },
      "execution_count": 60,
      "outputs": [
        {
          "output_type": "execute_result",
          "data": {
            "text/plain": [
              "['https://www.nature.com/nm/articles?type=research-highlight/articles/d41591-023-00011-z',\n",
              " 'https://www.nature.com/nm/articles?type=research-highlight/articles/d41591-023-00009-7',\n",
              " 'https://www.nature.com/nm/articles?type=research-highlight/articles/d41591-023-00007-9',\n",
              " 'https://www.nature.com/nm/articles?type=research-highlight/articles/d41591-023-00006-w',\n",
              " 'https://www.nature.com/nm/articles?type=research-highlight/articles/d41591-022-00113-0']"
            ]
          },
          "metadata": {},
          "execution_count": 60
        }
      ]
    },
    {
      "cell_type": "code",
      "source": [],
      "metadata": {
        "id": "D8hVK5bZSH7I"
      },
      "execution_count": null,
      "outputs": []
    }
  ],
  "metadata": {
    "kernelspec": {
      "display_name": "Python 3",
      "language": "python",
      "name": "python3"
    },
    "language_info": {
      "name": "python",
      "version": "3.10.7 (tags/v3.10.7:6cc6b13, Sep  5 2022, 14:08:36) [MSC v.1933 64 bit (AMD64)]"
    },
    "orig_nbformat": 4,
    "vscode": {
      "interpreter": {
        "hash": "8eabec45e246cfad7eec134868272b8b2e88c2edbeae786c3e63bd7f00f28a2b"
      }
    },
    "colab": {
      "provenance": []
    }
  },
  "nbformat": 4,
  "nbformat_minor": 0
}